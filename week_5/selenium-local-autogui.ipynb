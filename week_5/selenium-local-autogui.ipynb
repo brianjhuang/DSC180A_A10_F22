{
 "cells": [
  {
   "cell_type": "code",
   "execution_count": null,
   "id": "abf126c3",
   "metadata": {},
   "outputs": [],
   "source": [
    "!pip install pyautogui tk webdriver-manager selenium pandas seaborn urllib3 chardet selenium-stealth alive_progress pyarrow fastparquet"
   ]
  },
  {
   "cell_type": "code",
   "execution_count": null,
   "id": "cb8cc9db",
   "metadata": {
    "scrolled": true
   },
   "outputs": [],
   "source": [
    "from selenium import webdriver\n",
    "from selenium.webdriver.chrome.service import Service\n",
    "from webdriver_manager.chrome import ChromeDriverManager\n",
    "from selenium.webdriver.common.by import By\n",
    "from selenium.webdriver.common.keys import Keys\n",
    "from selenium.webdriver.common.desired_capabilities import DesiredCapabilities\n",
    "from selenium.webdriver.common.action_chains import ActionChains\n",
    "\n",
    "from selenium.webdriver.chrome.options import Options\n",
    "\n",
    "from selenium_stealth import stealth\n",
    "\n",
    "import time\n",
    "import datetime\n",
    "import random\n",
    "import re\n",
    "import glob\n",
    "from alive_progress import alive_bar\n",
    "\n",
    "import pandas as pd\n",
    "import numpy as np\n",
    "import requests\n",
    "import socket\n",
    "import platform\n",
    "\n",
    "from bs4 import BeautifulSoup\n",
    "#cdm = ChromeDriverManager().install()\n",
    "#cdm = ChromeDriverManager(path=\"C:\\Program Files\\Google\\Chrome\\Application\\chrome.exe\")\n",
    "#cdm = ChromeDriverManager(path=\"/usr/bin/google-chrome\")\n",
    "\n"
   ]
  },
  {
   "cell_type": "code",
   "execution_count": null,
   "id": "470c8290",
   "metadata": {},
   "outputs": [],
   "source": [
    "from selenium import webdriver\n",
    "from selenium.webdriver.chrome.options import Options\n",
    "\n",
    "options = Options()\n",
    "options.add_argument(\"--disable-notifications\")\n",
    "#options.add_argument(\"--homepage https://google.com\")\n",
    "\n",
    "options.add_argument(\"--incognito\")\n",
    "options.add_experimental_option(\"prefs\", {\"plugins.plugins_list\": [{\"enabled\": False, \"name\": \"Chrome PDF Viewer\"}]})\n",
    "options.add_experimental_option(\"excludeSwitches\", [\"enable-automation\"])\n",
    "options.add_experimental_option('useAutomationExtension', False)\n",
    "#options.add_experimental_option(\"debuggerAddress\", \"127.0.0.1:9222\");\n",
    "options.add_argument(\"--start-maximized\");\n",
    "options.add_argument(\"--disable-blink-features\")\n",
    "#options.add_argument(\"--user-data-dir=C:\\\\Users\\\\Stu\\\\AppData\\\\Local\\\\Google\\\\Chrome\\\\User Data\\\\Profile 1\")\n",
    "options.add_argument('--disable-extensions')\n",
    "\n",
    "options.add_argument(\"--no-sandbox\")\n",
    "#options.add_argument(\"--headless\")"
   ]
  },
  {
   "cell_type": "code",
   "execution_count": null,
   "id": "0549a88d",
   "metadata": {},
   "outputs": [],
   "source": [
    "import pyautogui"
   ]
  },
  {
   "cell_type": "markdown",
   "id": "f8ef4d71",
   "metadata": {},
   "source": [
    "### Metadata about when & where this was run"
   ]
  },
  {
   "cell_type": "code",
   "execution_count": null,
   "id": "f64f2893",
   "metadata": {},
   "outputs": [],
   "source": [
    "run_dt = datetime.datetime.now()\n",
    "run_location = \"ucsd\"\n",
    "run_platform = platform.platform()\n",
    "run_browser = \"chrome\"\n",
    "run_ip = requests.get('https://ipinfo.io/ip').content.decode('utf8')\n",
    "print(run_dt,run_location,run_platform,run_browser,run_ip)"
   ]
  },
  {
   "cell_type": "code",
   "execution_count": null,
   "id": "290ac82e",
   "metadata": {},
   "outputs": [],
   "source": [
    "def simulate_typing(text,element,delay=.1,driver=None):\n",
    "    element.send_keys(\" \") # not sure why first character doesn't get sent\n",
    "    count=0\n",
    "    for letter in text:\n",
    "        element.send_keys(letter)\n",
    "        time.sleep(delay*random.uniform(.75, 1.25))\n",
    "        if driver:\n",
    "            driver.save_screenshot('screenshot-temp/suggestion-' + str(count).zfill(2) + '.png')\n",
    "        count += 1\n",
    "    \n",
    "    if driver:\n",
    "        frames = []\n",
    "        imgs = glob.glob(\"screenshot-temp/*.png\")\n",
    "        imgs.sort()\n",
    "        for i in imgs:\n",
    "            new_frame = Image.open(i)\n",
    "            frames.append(new_frame)\n",
    "\n",
    "        # Save into a GIF file that loops forever\n",
    "        frames[0].save('typing.gif', format='GIF',\n",
    "               append_images=frames[1:],\n",
    "               save_all=True,\n",
    "               duration=300, loop=0)"
   ]
  },
  {
   "cell_type": "code",
   "execution_count": null,
   "id": "37f4089e",
   "metadata": {},
   "outputs": [],
   "source": [
    "def send_search(driver,query,delay=.1):\n",
    "    driver.get('https://www.google.com')\n",
    "    time.sleep(5*random.uniform(.75, 1.25))    \n",
    "\n",
    "    search_bar = driver.find_element(By.NAME, 'q')\n",
    "    simulate_typing(query,search_bar,delay)\n",
    "    search_bar.send_keys(Keys.ENTER)\n",
    "    \n",
    "    time.sleep(1)\n",
    "    \n",
    "    return [m.start() for m in re.finditer('<span class=\\\".{5,20}\\\">Ad.{0,1}<span', driver.page_source)]"
   ]
  },
  {
   "cell_type": "code",
   "execution_count": null,
   "id": "72a3b45d",
   "metadata": {},
   "outputs": [],
   "source": [
    "def direct_search(driver,query,delay=.1):\n",
    "    pyautogui.moveTo(pyautogui.size().width/2, 90, duration =1)\n",
    "    pyautogui.click(pyautogui.size().width/2, 90)\n",
    "    pyautogui.write(query, interval=.15)\n",
    "    pyautogui.press('enter')\n",
    "    \n",
    "    #query = query.replace(\" \",\"+\")\n",
    "    #driver.get(\"https://www.google.com/search?q=\" + query + \"&oq=\" + query + \"&sourceid=chrome&ie=UTF-8\")\n",
    "    #time.sleep(1*random.uniform(.75, 1.25))    \n",
    "\n",
    "    return [m.start() for m in re.finditer('<span class=\\\".{5,20}\\\">Ad.{0,1}<span', driver.page_source)]"
   ]
  },
  {
   "cell_type": "code",
   "execution_count": null,
   "id": "ef6e637a",
   "metadata": {},
   "outputs": [],
   "source": [
    "def scroll(driver, delay=.1):\n",
    "    body = driver.find_element_by_tag_name(\"body\")\n",
    "    for x in range(0,random.randrange(3,6)):\n",
    "        for y in range(0,random.randrange(5,10)):\n",
    "            body.send_keys(Keys.DOWN)\n",
    "            time.sleep(.1*random.uniform(.75,1.25))\n",
    "        time.sleep(1*random.uniform(.75,1.25))"
   ]
  },
  {
   "cell_type": "code",
   "execution_count": null,
   "id": "8791a37b",
   "metadata": {},
   "outputs": [],
   "source": [
    "def save_screenshot(driver: webdriver.Chrome, path: str = '/tmp/screenshot.png') -> None:\n",
    "    # Ref: https://stackoverflow.com/a/52572919/\n",
    "    original_size = driver.get_window_size()\n",
    "    required_width = driver.execute_script('return document.body.parentNode.scrollWidth')\n",
    "    required_height = driver.execute_script('return document.body.parentNode.scrollHeight')\n",
    "    driver.set_window_size(required_width, required_height)\n",
    "    driver.save_screenshot(path)  # has scrollbar\n",
    "    #driver.find_element_by_tag_name('body').screenshot(path)  # avoids scrollbar\n",
    "    driver.set_window_size(original_size['width'], original_size['height'])"
   ]
  },
  {
   "cell_type": "code",
   "execution_count": null,
   "id": "90d1f5b7",
   "metadata": {},
   "outputs": [],
   "source": [
    "def get_ad_text(html):\n",
    "    soup = BeautifulSoup(html, \"html.parser\")\n",
    "    ad_text = \"\"\n",
    "    for x in soup.find_all(name=\"div\"):\n",
    "        if 'data-text-ad' in x.attrs.keys():\n",
    "            ad_text += x.text\n",
    "    \n",
    "    return ad_text"
   ]
  },
  {
   "cell_type": "code",
   "execution_count": null,
   "id": "52fca745",
   "metadata": {},
   "outputs": [],
   "source": [
    "def internet(host=\"8.8.8.8\", port=53, timeout=3):\n",
    "    \"\"\"\n",
    "    Host: 8.8.8.8 (google-public-dns-a.google.com)\n",
    "    OpenPort: 53/tcp\n",
    "    Service: domain (DNS/TCP)\n",
    "    \"\"\"\n",
    "    try:\n",
    "        socket.setdefaulttimeout(timeout)\n",
    "        socket.socket(socket.AF_INET, socket.SOCK_STREAM).connect((host, port))\n",
    "        return True\n",
    "    except socket.error as ex:\n",
    "        print(ex)\n",
    "        return False\n"
   ]
  },
  {
   "cell_type": "code",
   "execution_count": null,
   "id": "c74753c5",
   "metadata": {},
   "outputs": [],
   "source": [
    "internet()"
   ]
  },
  {
   "cell_type": "code",
   "execution_count": null,
   "id": "96450d95",
   "metadata": {},
   "outputs": [],
   "source": [
    "driver = webdriver.Chrome(chrome_options=options,executable_path=\"C:\\\\Users\\\\S\\\\Documents\\\\selenium_180a\\\\chromedriver.exe\")"
   ]
  },
  {
   "cell_type": "code",
   "execution_count": null,
   "id": "3c40368a",
   "metadata": {},
   "outputs": [],
   "source": [
    "class CAPTCHAException(Exception):\n",
    "    pass\n",
    "\n",
    "def google_search(query, driver):\n",
    "    if internet():\n",
    "        try:\n",
    "            driver.get(\"https://www.google.com/search?q=\" + query + \"&rlz=1C1GCEA_enUS980US980&oq=\" + query + \"&aqs=chrome..69i57.3568j0j9&sourceid=chrome&ie=UTF-8\")\n",
    "            if len(driver.page_source) < 100000:\n",
    "                raise CAPTCHAException\n",
    "            else:\n",
    "                return driver.page_source\n",
    "        except CAPTCHAException:\n",
    "            print(\"CAPTCHA detected!\")\n",
    "            return driver.page_source\n",
    "    else:\n",
    "        print(\"No internet\")\n",
    "        return None"
   ]
  },
  {
   "cell_type": "code",
   "execution_count": null,
   "id": "7bd449c7",
   "metadata": {},
   "outputs": [],
   "source": [
    "google_search(\"hii\", driver)"
   ]
  },
  {
   "cell_type": "code",
   "execution_count": null,
   "id": "cd7c38fb",
   "metadata": {},
   "outputs": [],
   "source": [
    "pyautogui.position()"
   ]
  },
  {
   "cell_type": "code",
   "execution_count": null,
   "id": "bc77c736",
   "metadata": {},
   "outputs": [],
   "source": [
    "def run_query_autogui(query,driver):\n",
    "    pyautogui.FAILSAFE = False\n",
    "    try:\n",
    "        print(\"Query: \", query)\n",
    "        #driver = webdriver.Chrome(executable_path=\"C:\\Program Files\\Google\\Chrome\\Application\\chrome.exe\",chrome_options=options)\n",
    "        #ads_result = direct_search(driver,query)\n",
    "        #ss_filename = \"screenshots/\" + row['group'] + '/' + query + \".png\"\n",
    "\n",
    "        #save_screenshot(driver,ss_filename)\n",
    "        \n",
    "        \n",
    "        #query_url = query.replace(\" \",\"+\")\n",
    "        driver.get(\"https://google.com\")\n",
    "        \n",
    "        #pyautogui.moveTo(pyautogui.size().width/2, 90, duration =1)\n",
    "        #pyautogui.click(pyautogui.size().width/2, 90)\n",
    "        pyautogui.moveTo(4290,575, duration=1)\n",
    "        pyautogui.click(4290,575)\n",
    "        pyautogui.write(query, interval=.15)\n",
    "        pyautogui.press('enter')\n",
    "        pyautogui.moveTo(random.randint(0,pyautogui.size().width),random.randint(0,pyautogui.size().height),duration=1)\n",
    "        \n",
    "\n",
    "\n",
    "        ads_result = [m.start() for m in re.finditer('<span class=\\\".{5,20}\\\">Ad.{0,1}<span', driver.page_source)]\n",
    "        \n",
    "        \n",
    "        #body = driver.find_element_by_tag_name(\"body\")\n",
    "        for x in range(0,random.randrange(3,6)):\n",
    "            for y in range(0,random.randrange(5,10)):\n",
    "                pyautogui.press('down')\n",
    "                time.sleep(.1*random.uniform(.75,1.25))\n",
    "            time.sleep(1*random.uniform(.75,1.25))\n",
    "            \n",
    "        html_len = len(driver.page_source)\n",
    "            \n",
    "        result = {  'query':query,\n",
    "                    'query_datetime':datetime.datetime.now().strftime(\"%Y-%m-%d %H:%M:%S\"),\n",
    "                    'html':driver.page_source,\n",
    "                    'html_len':html_len}            \n",
    "            \n",
    "        if html_len < 100000:\n",
    "            result['captcha'] = True\n",
    "            #results.append(result)\n",
    "            print(query, \"CAPTCHA DETECTED!!!!!\")\n",
    "            time.sleep(60)\n",
    "        else:\n",
    "            result['captcha'] = False\n",
    "            \n",
    "    except Exception as e:\n",
    "        print(query,e)\n",
    "        if \"ERR_INTERNET\" or \"DISCONNECTED\" in str(e):\n",
    "            return (False, \"networkfail\")\n",
    "        else:\n",
    "            return (False, str(e))\n",
    "\n",
    "        pass"
   ]
  },
  {
   "cell_type": "code",
   "execution_count": null,
   "id": "1e7fc488",
   "metadata": {},
   "outputs": [],
   "source": [
    "run_query_autogui(\"hiiii\", driver)"
   ]
  },
  {
   "cell_type": "code",
   "execution_count": null,
   "id": "7c31b684",
   "metadata": {},
   "outputs": [],
   "source": [
    "driver = webdriver.Chrome(chrome_options=options,executable_path=\"C:\\\\Users\\\\S\\\\Documents\\\\selenium_180a\\\\chromedriver.exe\")"
   ]
  },
  {
   "cell_type": "code",
   "execution_count": null,
   "id": "5309fd27",
   "metadata": {},
   "outputs": [],
   "source": [
    "run_query_autogui(index,row,driver)"
   ]
  }
 ],
 "metadata": {
  "kernelspec": {
   "display_name": "Python 3 (ipykernel)",
   "language": "python",
   "name": "python3"
  },
  "language_info": {
   "codemirror_mode": {
    "name": "ipython",
    "version": 3
   },
   "file_extension": ".py",
   "mimetype": "text/x-python",
   "name": "python",
   "nbconvert_exporter": "python",
   "pygments_lexer": "ipython3",
   "version": "3.9.13"
  }
 },
 "nbformat": 4,
 "nbformat_minor": 5
}
